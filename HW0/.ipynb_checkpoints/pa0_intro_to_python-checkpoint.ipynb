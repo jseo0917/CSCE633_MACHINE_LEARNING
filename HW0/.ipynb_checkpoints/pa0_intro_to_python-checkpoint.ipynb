{
 "cells": [
  {
   "cell_type": "markdown",
   "metadata": {
    "id": "882ab14f"
   },
   "source": [
    "# CSCE 633 :: Machine Learning :: Texas A&M University :: Spring 2022\n",
    "\n",
    "# Programming Assignment 0 (P0)\n",
    "**Name: Jung Hoon Seo\n",
    "**UIN: 827 009 126"
   ]
  },
  {
   "cell_type": "markdown",
   "metadata": {
    "id": "2e6f61f4"
   },
   "source": [
    "# Python Warmup\n",
    "- **100 points**\n",
    "- **Due Tuesday, January 25 by 11:59 pm**\n",
    "\n",
    "This assignment tests the basics of Python, NumPy, and Pandas. They are the bread and butter for implementing machine learning algorithms. Hence, it is expected that you should be able to complete this assignment without breaking a lot of sweat. The level of difficulty of the questions varies between easy and medium. So, in case you are unfamiliar with NumPy and Pandas, they should provide you with a nice platform to get up to speed.  \n",
    "\n",
    "The assignment consists of 15 coding questions. You are required to complete the functions defined in the code blocks following each question.  You only need to fill out sections of the code marked `\"YOUR CODE HERE\"`. There are a few test cases defined for each question which you may use to verify your implementation. Do **NOT** modify these test cases since we will use them to grade your solutions. Once you've filled out your solutions, submit the notebook on Canvas (see the instructions on Submission). Do **NOT** forget to type in your name and UIN at the beginning of the notebook."
   ]
  },
  {
   "cell_type": "markdown",
   "metadata": {
    "id": "a14dfd16"
   },
   "source": [
    "## Tutorial on Jupyter Notebooks\n",
    "\n",
    "If you are new to jupyter notebooks, you can find more information on how to use them [here](https://realpython.com/jupyter-notebook-introduction/)."
   ]
  },
  {
   "cell_type": "markdown",
   "metadata": {
    "id": "2043b5a2"
   },
   "source": [
    "## Python Basics"
   ]
  },
  {
   "cell_type": "markdown",
   "metadata": {
    "id": "4da92ed3"
   },
   "source": [
    "### Question 1 (5 points)\n",
    "**Complete the function `str_cmp` to return `True` if two strings are the same irrespective of lowercase/uppercase and whitespaces. Else, return `False`.**"
   ]
  },
  {
   "cell_type": "code",
   "execution_count": 9,
   "metadata": {
    "id": "35a5617a"
   },
   "outputs": [],
   "source": [
    "def str_cmp(str_1, str_2):\n",
    "    # YOUR CODE HERE\n",
    "    remove_case_str1 = str_1.casefold();\n",
    "    remove_case_str2 = str_2.casefold();\n",
    "    remove_space_str1 = remove_case_str1.replace(\" \", \"\")\n",
    "    remove_space_str2 = remove_case_str2.replace(\" \", \"\")\n",
    "    if(remove_space_str1==remove_space_str2):\n",
    "        return True\n",
    "    else:\n",
    "        return False\n",
    "    "
   ]
  },
  {
   "cell_type": "code",
   "execution_count": 10,
   "metadata": {
    "id": "de42b747"
   },
   "outputs": [
    {
     "name": "stdout",
     "output_type": "stream",
     "text": [
      "Passed test case 1\n",
      "====================\n",
      "Passed test case 2\n",
      "====================\n",
      "Passed test case 3\n",
      "====================\n",
      "Passed test case 4\n",
      "====================\n",
      "Passed test case 5\n",
      "====================\n",
      "*****************************\n",
      "**  PASSED ALL TEST CASES  **\n",
      "*****************************\n"
     ]
    }
   ],
   "source": [
    "# TEST CASES -- DO NOT MODIFY\n",
    "\n",
    "# Test Case 1\n",
    "assert str_cmp(\"csce\", \"csce\") == True, \"Failed test case 1\"\n",
    "print(\"Passed test case 1\\n\" + \"=\"*20)\n",
    "\n",
    "# Test Case 2\n",
    "assert str_cmp(\"csce\", \"csce412\") == False, \"Failed test case 2\"\n",
    "print(\"Passed test case 2\\n\" + \"=\"*20)\n",
    "\n",
    "# Test Case 3\n",
    "assert str_cmp(\"MaChine LeArnIng\", \"machine learning\") == True, \"Failed test case 3\"\n",
    "print(\"Passed test case 3\\n\" + \"=\"*20)\n",
    "\n",
    "# Test Case 4\n",
    "assert str_cmp(\"Machine Learning!\", \"Machine Learning\") == False, \"Failed test case 4\"\n",
    "print(\"Passed test case 4\\n\" + \"=\"*20)\n",
    "\n",
    "# Test Case 5\n",
    "assert str_cmp(\"  Machine Learning\", \"machine    Learning \") == True, \"Failed test case 5\"\n",
    "print(\"Passed test case 5\\n\" + \"=\"*20)\n",
    "\n",
    "print(\"*\"*29 + \"\\n**  PASSED ALL TEST CASES  **\\n\" + \"*\"*29)"
   ]
  },
  {
   "cell_type": "markdown",
   "metadata": {
    "id": "538dfd1a"
   },
   "source": [
    "### Question 2 (5 points)\n",
    "**Complete the function `power_list` in which each element is raised by its index to create a new list. Return the sum of the elements of the new list.**  \n",
    "\n",
    "Example:  \n",
    "given list: [1, 2, 3, 4]  \n",
    "new list: [1, 2, 9, 64]  \n",
    "sum of the elements of new list: 76"
   ]
  },
  {
   "cell_type": "code",
   "execution_count": 11,
   "metadata": {
    "id": "e103a1ec"
   },
   "outputs": [],
   "source": [
    "def power_list(arr):\n",
    "    ## YOUR CODE HERE\n",
    "    new_list = []\n",
    "    for i in range(len(arr)):\n",
    "        new_val = pow(arr[i], i)\n",
    "        new_list.append(new_val)\n",
    "    \n",
    "    return (sum(new_list))\n",
    "    "
   ]
  },
  {
   "cell_type": "code",
   "execution_count": 12,
   "metadata": {
    "id": "945f921a"
   },
   "outputs": [
    {
     "name": "stdout",
     "output_type": "stream",
     "text": [
      "Passed test case 1\n",
      "====================\n",
      "Passed test case 2\n",
      "====================\n",
      "*****************************\n",
      "**  PASSED ALL TEST CASES  **\n",
      "*****************************\n"
     ]
    }
   ],
   "source": [
    "# TEST CASES -- DO NOT MODIFY\n",
    "\n",
    "# Test Case 1\n",
    "assert power_list([i for i in range(5)]) == 289, \"Failed test case 1\"\n",
    "print(\"Passed test case 1\\n\" + \"=\"*20)\n",
    "\n",
    "# Test Case 2\n",
    "assert power_list([-i for i in range(10, -1, -1)]) == 48, \"Failed test case 2\"\n",
    "print(\"Passed test case 2\\n\" + \"=\"*20)\n",
    "\n",
    "print(\"*\"*29 + \"\\n**  PASSED ALL TEST CASES  **\\n\" + \"*\"*29)"
   ]
  },
  {
   "cell_type": "markdown",
   "metadata": {
    "id": "bf2cfd31"
   },
   "source": [
    "### Question 3 (10 points)\n",
    "**Complete the function `create_stats` that returns the mean and median values of the values arranged in a nested list.**"
   ]
  },
  {
   "cell_type": "code",
   "execution_count": 29,
   "metadata": {
    "id": "663e8d08"
   },
   "outputs": [],
   "source": [
    "import numpy as np \n",
    "\n",
    "def create_stats(universities):\n",
    "    \"\"\"\n",
    "    Return a tuple of (mean students enrolled, median students enrolled, mean tuition, median tuition)\n",
    "    Return a tuple of (mean cars sold, median cars sold, mean MSRP, median MSRP)\n",
    "    \"\"\"\n",
    "    \n",
    "    # YOUR CODE HERE\n",
    "    \n",
    "\n",
    "    first_total = []\n",
    "    second_total = []\n",
    "    \n",
    "    for i in range (1, 3, 1):\n",
    "        for j in universities:\n",
    "            if (i == 1):\n",
    "                first_total.append(j[i])\n",
    "                \n",
    "            else:\n",
    "                second_total.append(j[i])\n",
    "    \n",
    "    result = [];\n",
    "    result.append(np.mean(first_total))\n",
    "    result.append(np.median(first_total))\n",
    "    result.append(np.mean(second_total))\n",
    "    result.append(np.median(second_total))\n",
    "    \n",
    "    return tuple(result)                                "
   ]
  },
  {
   "cell_type": "code",
   "execution_count": 30,
   "metadata": {
    "id": "cef665e2"
   },
   "outputs": [
    {
     "name": "stdout",
     "output_type": "stream",
     "text": [
      "Passed test case 1\n",
      "====================\n",
      "Passed test case 2\n",
      "====================\n",
      "*****************************\n",
      "**  PASSED ALL TEST CASES  **\n",
      "*****************************\n"
     ]
    }
   ],
   "source": [
    "# TEST CASES -- DO NOT MODIFY\n",
    "\n",
    "# [[university name, students enrolled, tuition]]\n",
    "universities = [\n",
    "    [\"Harvard\", 19627, 39849],\n",
    "    [\"Massachusetts Institute of Technology\", 10566, 40732],\n",
    "    [\"Princeton\", 7806, 37000],\n",
    "    [\"Rice\", 5870, 35551],\n",
    "    [\"Stanford\", 19539, 40569],\n",
    "    [\"Yale\", 11706, 40500],\n",
    "]\n",
    "\n",
    "# [[model, cars sold, MSRP]]\n",
    "cars = [\n",
    "    [\"Ford F-series\", 52314, 35000],\n",
    "    [\"Toyota RAV4\", 41145, 30000],\n",
    "    [\"Honda CR-V\", 31530, 32000],\n",
    "    [\"Toyota Camry\", 32959, 28000],\n",
    "    [\"Honda Civic\", 28318, 23000]\n",
    "]\n",
    "\n",
    "# Test Case 1\n",
    "assert create_stats(universities) == (12519.0, 11136.0, 39033.5, 40174.5), \"Failed test case 1\"\n",
    "print(\"Passed test case 1\\n\" + \"=\"*20)\n",
    "\n",
    "# Test Case 2\n",
    "assert create_stats(cars) == (37253.2, 32959, 29600.0, 30000), \"Failed test case 2\"\n",
    "print(\"Passed test case 2\\n\" + \"=\"*20)\n",
    "\n",
    "print(\"*\"*29 + \"\\n**  PASSED ALL TEST CASES  **\\n\" + \"*\"*29)"
   ]
  },
  {
   "cell_type": "markdown",
   "metadata": {
    "id": "f518dfb5"
   },
   "source": [
    "# NumPy Basics"
   ]
  },
  {
   "cell_type": "code",
   "execution_count": null,
   "metadata": {
    "id": "58b94afd"
   },
   "outputs": [],
   "source": [
    "import numpy as np"
   ]
  },
  {
   "cell_type": "markdown",
   "metadata": {
    "id": "9f7c5978"
   },
   "source": [
    "### Question 4 (5 points)\n",
    "**Complete the function `matrix_reshape` to reshape a matrix to the target dimensions given by `n_rows` and `n_cols`.**"
   ]
  },
  {
   "cell_type": "code",
   "execution_count": 33,
   "metadata": {
    "colab": {
     "base_uri": "https://localhost:8080/",
     "height": 130
    },
    "executionInfo": {
     "elapsed": 16,
     "status": "error",
     "timestamp": 1642619112455,
     "user": {
      "displayName": "Sumedh Pendurkar",
      "photoUrl": "https://lh3.googleusercontent.com/a-/AOh14GhzwPTIBSaSq42g50egd5zPO_EauWTfuYbzeNGz=s64",
      "userId": "05215513594680154534"
     },
     "user_tz": 360
    },
    "id": "7b2ee854",
    "outputId": "e9490555-c43d-4e76-98f8-bb51ec16f6ff"
   },
   "outputs": [],
   "source": [
    "def matrix_reshape(mat, n_rows, n_cols):\n",
    "    # YOUR CODE HERE\n",
    "    return np.reshape(mat, (n_rows, n_cols))\n",
    "    "
   ]
  },
  {
   "cell_type": "code",
   "execution_count": 34,
   "metadata": {
    "colab": {
     "base_uri": "https://localhost:8080/",
     "height": 235
    },
    "executionInfo": {
     "elapsed": 270,
     "status": "error",
     "timestamp": 1642619112717,
     "user": {
      "displayName": "Sumedh Pendurkar",
      "photoUrl": "https://lh3.googleusercontent.com/a-/AOh14GhzwPTIBSaSq42g50egd5zPO_EauWTfuYbzeNGz=s64",
      "userId": "05215513594680154534"
     },
     "user_tz": 360
    },
    "id": "009922e4",
    "outputId": "b0688adb-5bda-441f-957b-fff8339f014d"
   },
   "outputs": [
    {
     "name": "stdout",
     "output_type": "stream",
     "text": [
      "Passed test case 1\n",
      "====================\n",
      "Passed test case 2\n",
      "====================\n",
      "*****************************\n",
      "**  PASSED ALL TEST CASES  **\n",
      "*****************************\n"
     ]
    }
   ],
   "source": [
    "# TEST CASES -- DO NOT MODIFY\n",
    "\n",
    "A = np.array([\n",
    "    [3, -4, 2, 9],\n",
    "    [6, 1, -5, 2],\n",
    "    [-7, 8, -1, 6]\n",
    "])\n",
    "\n",
    "# Test Case 1\n",
    "assert (matrix_reshape(np.arange(15), 3, 5) == np.array([[ 0,  1,  2,  3,  4], [ 5,  6,  7,  8,  9], \n",
    "                                                            [10, 11, 12, 13, 14]])).all(), \"Failed test case 1\"\n",
    "print(\"Passed test case 1\\n\" + \"=\"*20)\n",
    "\n",
    "# Test Case 2\n",
    "assert (matrix_reshape(A, 2, 6) == np.array([[ 3, -4,  2,  9,  6,  1],\n",
    "       [-5,  2, -7,  8, -1,  6]])).all(), \"Failed test case 2\"\n",
    "print(\"Passed test case 2\\n\" + \"=\"*20)\n",
    "\n",
    "print(\"*\"*29 + \"\\n**  PASSED ALL TEST CASES  **\\n\" + \"*\"*29)"
   ]
  },
  {
   "cell_type": "markdown",
   "metadata": {
    "id": "6be8fe6d"
   },
   "source": [
    "### Question 5 (5 points)\n",
    "**Complete the function `dot_product` that returns the dot product of two matrices. Dot product is also known as matrix multiplication.**"
   ]
  },
  {
   "cell_type": "code",
   "execution_count": 35,
   "metadata": {
    "id": "477e0de2"
   },
   "outputs": [],
   "source": [
    "def dot_product(mat_1, mat_2):\n",
    "    # YOUR CODE HERE\n",
    "    return np.dot(mat_1, mat_2)\n",
    "    \n",
    "    "
   ]
  },
  {
   "cell_type": "code",
   "execution_count": 36,
   "metadata": {
    "id": "45463c9e"
   },
   "outputs": [
    {
     "name": "stdout",
     "output_type": "stream",
     "text": [
      "Passed test case 1\n",
      "====================\n",
      "Passed test case 2\n",
      "====================\n",
      "Passed test case 3\n",
      "====================\n",
      "*****************************\n",
      "**  PASSED ALL TEST CASES  **\n",
      "*****************************\n"
     ]
    }
   ],
   "source": [
    "# TEST CASES -- DO NOT MODIFY\n",
    "\n",
    "A = np.array([\n",
    "    [3, -4, 2, 9],\n",
    "    [6, 1, -5, 2],\n",
    "    [-7, 8, -1, 6]\n",
    "])\n",
    "\n",
    "# Test Case 1\n",
    "assert dot_product(A[0,:], A[1,:]) == 22, \"Failed test case 1\"\n",
    "print(\"Passed test case 1\\n\" + \"=\"*20)\n",
    "\n",
    "# Test Case 2\n",
    "assert (dot_product(A[0,:], A.T) == np.array([110,  22,  -1])).all(), \"Failed test case 2\"\n",
    "print(\"Passed test case 2\\n\" + \"=\"*20)\n",
    "\n",
    "# Test Case 3\n",
    "assert (dot_product(A, A.T) == np.array([[110,  22,  -1], [ 22,  66, -17], \n",
    "                                               [ -1, -17, 150]])).all(), \"Failed test case 3\"\n",
    "print(\"Passed test case 3\\n\" + \"=\"*20)\n",
    "\n",
    "print(\"*\"*29 + \"\\n**  PASSED ALL TEST CASES  **\\n\" + \"*\"*29)"
   ]
  },
  {
   "cell_type": "markdown",
   "metadata": {
    "id": "7e8ead58"
   },
   "source": [
    "### Question 6 (5 points)\n",
    "**Complete the function `cross_product` that returns the cross product of two matrices.**"
   ]
  },
  {
   "cell_type": "code",
   "execution_count": 37,
   "metadata": {
    "id": "79123733"
   },
   "outputs": [],
   "source": [
    "def cross_product(mat_1, mat_2):\n",
    "    # YOUR CODE HERE\n",
    "    return np.cross(mat_1, mat_2)\n",
    "    \n",
    "    "
   ]
  },
  {
   "cell_type": "code",
   "execution_count": 38,
   "metadata": {
    "id": "5297b399"
   },
   "outputs": [
    {
     "name": "stdout",
     "output_type": "stream",
     "text": [
      "Passed test case 1\n",
      "====================\n",
      "Passed test case 2\n",
      "====================\n",
      "*****************************\n",
      "**  PASSED ALL TEST CASES  **\n",
      "*****************************\n"
     ]
    }
   ],
   "source": [
    "# TEST CASES -- DO NOT MODIFY\n",
    "\n",
    "A = np.array([\n",
    "    [3, -4, 2, 9],\n",
    "    [6, 1, -5, 2],\n",
    "    [-7, 8, -1, 6]\n",
    "])\n",
    "\n",
    "# Test Case 1\n",
    "assert cross_product(A[0,:2], A[:2,1]) == -13, \"Failed test case 1\"\n",
    "print(\"Passed test case 1\\n\" + \"=\"*20)\n",
    "\n",
    "# Test Case 2\n",
    "assert cross_product(A[:2,:2], A[2:,2:])[0] == 14, \"Failed test case 2\"\n",
    "print(\"Passed test case 2\\n\" + \"=\"*20)\n",
    "\n",
    "print(\"*\"*29 + \"\\n**  PASSED ALL TEST CASES  **\\n\" + \"*\"*29)"
   ]
  },
  {
   "cell_type": "markdown",
   "metadata": {
    "id": "cd8ff4f9"
   },
   "source": [
    "### Question 7 (5 points)\n",
    "**Complete the function `inverse` that computes the inverse of a matrix.**"
   ]
  },
  {
   "cell_type": "code",
   "execution_count": 41,
   "metadata": {
    "id": "f6602906"
   },
   "outputs": [],
   "source": [
    "def inverse(mat):\n",
    "    # YOUR CODE HERE\n",
    "    return np.linalg.inv(mat)\n",
    "    "
   ]
  },
  {
   "cell_type": "code",
   "execution_count": 42,
   "metadata": {
    "id": "ae2d0a7e"
   },
   "outputs": [
    {
     "name": "stdout",
     "output_type": "stream",
     "text": [
      "Passed test case 1\n",
      "====================\n",
      "Passed test case 2\n",
      "====================\n",
      "*****************************\n",
      "**  PASSED ALL TEST CASES  **\n",
      "*****************************\n"
     ]
    }
   ],
   "source": [
    "# TEST CASES -- DO NOT MODIFY\n",
    "\n",
    "A = np.array([\n",
    "    [6, 1, 1],\n",
    "    [4, -2, 5],\n",
    "    [2, 8, 7]\n",
    "])\n",
    "\n",
    "# Test Case 1\n",
    "assert np.allclose(inverse(A), np.array([[ 0.17647059, -0.00326797, -0.02287582],\n",
    "       [ 0.05882353, -0.13071895,  0.08496732],\n",
    "       [-0.11764706,  0.1503268 ,  0.05228758]])), \"Failed test case 1\"\n",
    "print(\"Passed test case 1\\n\" + \"=\"*20)\n",
    "\n",
    "# Test Case 2\n",
    "assert (inverse(A[:2,:2]) == np.array([[ 0.125 ,  0.0625],\n",
    "       [ 0.25  , -0.375 ]])).all(), \"Failed test case 2\"\n",
    "print(\"Passed test case 2\\n\" + \"=\"*20)\n",
    "\n",
    "print(\"*\"*29 + \"\\n**  PASSED ALL TEST CASES  **\\n\" + \"*\"*29)"
   ]
  },
  {
   "cell_type": "markdown",
   "metadata": {
    "id": "676a062c"
   },
   "source": [
    "### Question 8 (10 points)\n",
    "**Complete the function `subtract_mean` that subtracts the row-wise mean from each row of a matrix.**"
   ]
  },
  {
   "cell_type": "code",
   "execution_count": 76,
   "metadata": {
    "id": "d961fe24"
   },
   "outputs": [],
   "source": [
    "def subtract_mean(mat):\n",
    "    ## YOUR CODE HERE\n",
    "    return (mat - mat.mean(axis= 1, keepdims=True))    \n"
   ]
  },
  {
   "cell_type": "code",
   "execution_count": 77,
   "metadata": {
    "id": "2c022f5d"
   },
   "outputs": [
    {
     "name": "stdout",
     "output_type": "stream",
     "text": [
      "Passed test case 1\n",
      "====================\n",
      "Passed test case 2\n",
      "====================\n",
      "*****************************\n",
      "**  PASSED ALL TEST CASES  **\n",
      "*****************************\n"
     ]
    }
   ],
   "source": [
    "A = np.array([\n",
    "    [3, -4, 2, 9],\n",
    "    [6, 1, -5, 2],\n",
    "    [-7, 8, -1, 6]\n",
    "])\n",
    "\n",
    "# Test Case 1\n",
    "assert (subtract_mean(np.arange(12).reshape(4,3)) == np.array([[-1.,  0.,  1.], [-1.,  0.,  1.],\n",
    "       [-1.,  0.,  1.], [-1.,  0.,  1.]])).all(), \"Failed test case 1\"\n",
    "print(\"Passed test case 1\\n\" + \"=\"*20)\n",
    "\n",
    "# Test Case 2\n",
    "assert (subtract_mean(A) == np.array([[0.5, -6.5, -0.5,  6.5], [5. ,  0. , -6. ,  1. ], \n",
    "        [-8.5,  6.5, -2.5,  4.5]])).all(), \"Failed test case 2\"\n",
    "print(\"Passed test case 2\\n\" + \"=\"*20)\n",
    "\n",
    "print(\"*\"*29 + \"\\n**  PASSED ALL TEST CASES  **\\n\" + \"*\"*29)"
   ]
  },
  {
   "cell_type": "markdown",
   "metadata": {
    "id": "936fb3bc"
   },
   "source": [
    "### Question 9 (10 points)\n",
    "**Complete the function `moving_average` that computes averages over a sliding window of size `window_size` for a 1-D array.**"
   ]
  },
  {
   "cell_type": "code",
   "execution_count": 80,
   "metadata": {
    "id": "95012d0c"
   },
   "outputs": [],
   "source": [
    "def moving_average(arr, window_size):\n",
    "    # YOUR CODE HERE\n",
    "    return np.ma.average(arr, window_size)\n",
    "    "
   ]
  },
  {
   "cell_type": "code",
   "execution_count": 81,
   "metadata": {
    "id": "463a46d1"
   },
   "outputs": [
    {
     "ename": "IndexError",
     "evalue": "tuple index out of range",
     "output_type": "error",
     "traceback": [
      "\u001b[0;31m---------------------------------------------------------------------------\u001b[0m",
      "\u001b[0;31mIndexError\u001b[0m                                Traceback (most recent call last)",
      "\u001b[0;32m<ipython-input-81-bdc6cdc03d39>\u001b[0m in \u001b[0;36m<module>\u001b[0;34m\u001b[0m\n\u001b[1;32m      1\u001b[0m \u001b[0;31m# Test Case 1\u001b[0m\u001b[0;34m\u001b[0m\u001b[0;34m\u001b[0m\u001b[0;34m\u001b[0m\u001b[0m\n\u001b[0;32m----> 2\u001b[0;31m \u001b[0;32massert\u001b[0m \u001b[0;34m(\u001b[0m\u001b[0mmoving_average\u001b[0m\u001b[0;34m(\u001b[0m\u001b[0mnp\u001b[0m\u001b[0;34m.\u001b[0m\u001b[0marange\u001b[0m\u001b[0;34m(\u001b[0m\u001b[0;36m10\u001b[0m\u001b[0;34m)\u001b[0m\u001b[0;34m,\u001b[0m \u001b[0;36m3\u001b[0m\u001b[0;34m)\u001b[0m \u001b[0;34m==\u001b[0m \u001b[0mnp\u001b[0m\u001b[0;34m.\u001b[0m\u001b[0marange\u001b[0m\u001b[0;34m(\u001b[0m\u001b[0;36m8\u001b[0m\u001b[0;34m)\u001b[0m\u001b[0;34m+\u001b[0m\u001b[0;36m1\u001b[0m\u001b[0;34m)\u001b[0m\u001b[0;34m.\u001b[0m\u001b[0mall\u001b[0m\u001b[0;34m(\u001b[0m\u001b[0;34m)\u001b[0m\u001b[0;34m,\u001b[0m \u001b[0;34m\"Failed test case 1\"\u001b[0m\u001b[0;34m\u001b[0m\u001b[0;34m\u001b[0m\u001b[0m\n\u001b[0m\u001b[1;32m      3\u001b[0m \u001b[0mprint\u001b[0m\u001b[0;34m(\u001b[0m\u001b[0;34m\"Passed test case 1\\n\"\u001b[0m \u001b[0;34m+\u001b[0m \u001b[0;34m\"=\"\u001b[0m\u001b[0;34m*\u001b[0m\u001b[0;36m20\u001b[0m\u001b[0;34m)\u001b[0m\u001b[0;34m\u001b[0m\u001b[0;34m\u001b[0m\u001b[0m\n\u001b[1;32m      4\u001b[0m \u001b[0;34m\u001b[0m\u001b[0m\n\u001b[1;32m      5\u001b[0m \u001b[0;31m# Test Case 2\u001b[0m\u001b[0;34m\u001b[0m\u001b[0;34m\u001b[0m\u001b[0;34m\u001b[0m\u001b[0m\n",
      "\u001b[0;32m<ipython-input-80-f730630a8c1b>\u001b[0m in \u001b[0;36mmoving_average\u001b[0;34m(arr, window_size)\u001b[0m\n\u001b[1;32m      1\u001b[0m \u001b[0;32mdef\u001b[0m \u001b[0mmoving_average\u001b[0m\u001b[0;34m(\u001b[0m\u001b[0marr\u001b[0m\u001b[0;34m,\u001b[0m \u001b[0mwindow_size\u001b[0m\u001b[0;34m)\u001b[0m\u001b[0;34m:\u001b[0m\u001b[0;34m\u001b[0m\u001b[0;34m\u001b[0m\u001b[0m\n\u001b[1;32m      2\u001b[0m     \u001b[0;31m# YOUR CODE HERE\u001b[0m\u001b[0;34m\u001b[0m\u001b[0;34m\u001b[0m\u001b[0;34m\u001b[0m\u001b[0m\n\u001b[0;32m----> 3\u001b[0;31m     \u001b[0;32mreturn\u001b[0m \u001b[0mnp\u001b[0m\u001b[0;34m.\u001b[0m\u001b[0mma\u001b[0m\u001b[0;34m.\u001b[0m\u001b[0maverage\u001b[0m\u001b[0;34m(\u001b[0m\u001b[0marr\u001b[0m\u001b[0;34m,\u001b[0m \u001b[0mwindow_size\u001b[0m\u001b[0;34m)\u001b[0m\u001b[0;34m\u001b[0m\u001b[0;34m\u001b[0m\u001b[0m\n\u001b[0m\u001b[1;32m      4\u001b[0m \u001b[0;34m\u001b[0m\u001b[0m\n",
      "\u001b[0;32m~/opt/anaconda3/lib/python3.7/site-packages/numpy/ma/extras.py\u001b[0m in \u001b[0;36maverage\u001b[0;34m(a, axis, weights, returned)\u001b[0m\n\u001b[1;32m    598\u001b[0m \u001b[0;34m\u001b[0m\u001b[0m\n\u001b[1;32m    599\u001b[0m     \u001b[0;32mif\u001b[0m \u001b[0mweights\u001b[0m \u001b[0;32mis\u001b[0m \u001b[0;32mNone\u001b[0m\u001b[0;34m:\u001b[0m\u001b[0;34m\u001b[0m\u001b[0;34m\u001b[0m\u001b[0m\n\u001b[0;32m--> 600\u001b[0;31m         \u001b[0mavg\u001b[0m \u001b[0;34m=\u001b[0m \u001b[0ma\u001b[0m\u001b[0;34m.\u001b[0m\u001b[0mmean\u001b[0m\u001b[0;34m(\u001b[0m\u001b[0maxis\u001b[0m\u001b[0;34m)\u001b[0m\u001b[0;34m\u001b[0m\u001b[0;34m\u001b[0m\u001b[0m\n\u001b[0m\u001b[1;32m    601\u001b[0m         \u001b[0mscl\u001b[0m \u001b[0;34m=\u001b[0m \u001b[0mavg\u001b[0m\u001b[0;34m.\u001b[0m\u001b[0mdtype\u001b[0m\u001b[0;34m.\u001b[0m\u001b[0mtype\u001b[0m\u001b[0;34m(\u001b[0m\u001b[0ma\u001b[0m\u001b[0;34m.\u001b[0m\u001b[0mcount\u001b[0m\u001b[0;34m(\u001b[0m\u001b[0maxis\u001b[0m\u001b[0;34m)\u001b[0m\u001b[0;34m)\u001b[0m\u001b[0;34m\u001b[0m\u001b[0;34m\u001b[0m\u001b[0m\n\u001b[1;32m    602\u001b[0m     \u001b[0;32melse\u001b[0m\u001b[0;34m:\u001b[0m\u001b[0;34m\u001b[0m\u001b[0;34m\u001b[0m\u001b[0m\n",
      "\u001b[0;32m~/opt/anaconda3/lib/python3.7/site-packages/numpy/ma/core.py\u001b[0m in \u001b[0;36mmean\u001b[0;34m(self, axis, dtype, out, keepdims)\u001b[0m\n\u001b[1;32m   5214\u001b[0m         \u001b[0;32mif\u001b[0m \u001b[0mself\u001b[0m\u001b[0;34m.\u001b[0m\u001b[0m_mask\u001b[0m \u001b[0;32mis\u001b[0m \u001b[0mnomask\u001b[0m\u001b[0;34m:\u001b[0m\u001b[0;34m\u001b[0m\u001b[0;34m\u001b[0m\u001b[0m\n\u001b[1;32m   5215\u001b[0m             result = super(MaskedArray, self).mean(axis=axis,\n\u001b[0;32m-> 5216\u001b[0;31m                                                    dtype=dtype, **kwargs)[()]\n\u001b[0m\u001b[1;32m   5217\u001b[0m         \u001b[0;32melse\u001b[0m\u001b[0;34m:\u001b[0m\u001b[0;34m\u001b[0m\u001b[0;34m\u001b[0m\u001b[0m\n\u001b[1;32m   5218\u001b[0m             \u001b[0mdsum\u001b[0m \u001b[0;34m=\u001b[0m \u001b[0mself\u001b[0m\u001b[0;34m.\u001b[0m\u001b[0msum\u001b[0m\u001b[0;34m(\u001b[0m\u001b[0maxis\u001b[0m\u001b[0;34m=\u001b[0m\u001b[0maxis\u001b[0m\u001b[0;34m,\u001b[0m \u001b[0mdtype\u001b[0m\u001b[0;34m=\u001b[0m\u001b[0mdtype\u001b[0m\u001b[0;34m,\u001b[0m \u001b[0;34m**\u001b[0m\u001b[0mkwargs\u001b[0m\u001b[0;34m)\u001b[0m\u001b[0;34m\u001b[0m\u001b[0;34m\u001b[0m\u001b[0m\n",
      "\u001b[0;32m~/opt/anaconda3/lib/python3.7/site-packages/numpy/core/_methods.py\u001b[0m in \u001b[0;36m_mean\u001b[0;34m(a, axis, dtype, out, keepdims)\u001b[0m\n\u001b[1;32m    136\u001b[0m \u001b[0;34m\u001b[0m\u001b[0m\n\u001b[1;32m    137\u001b[0m     \u001b[0mis_float16_result\u001b[0m \u001b[0;34m=\u001b[0m \u001b[0;32mFalse\u001b[0m\u001b[0;34m\u001b[0m\u001b[0;34m\u001b[0m\u001b[0m\n\u001b[0;32m--> 138\u001b[0;31m     \u001b[0mrcount\u001b[0m \u001b[0;34m=\u001b[0m \u001b[0m_count_reduce_items\u001b[0m\u001b[0;34m(\u001b[0m\u001b[0marr\u001b[0m\u001b[0;34m,\u001b[0m \u001b[0maxis\u001b[0m\u001b[0;34m)\u001b[0m\u001b[0;34m\u001b[0m\u001b[0;34m\u001b[0m\u001b[0m\n\u001b[0m\u001b[1;32m    139\u001b[0m     \u001b[0;31m# Make this warning show up first\u001b[0m\u001b[0;34m\u001b[0m\u001b[0;34m\u001b[0m\u001b[0;34m\u001b[0m\u001b[0m\n\u001b[1;32m    140\u001b[0m     \u001b[0;32mif\u001b[0m \u001b[0mrcount\u001b[0m \u001b[0;34m==\u001b[0m \u001b[0;36m0\u001b[0m\u001b[0;34m:\u001b[0m\u001b[0;34m\u001b[0m\u001b[0;34m\u001b[0m\u001b[0m\n",
      "\u001b[0;32m~/opt/anaconda3/lib/python3.7/site-packages/numpy/core/_methods.py\u001b[0m in \u001b[0;36m_count_reduce_items\u001b[0;34m(arr, axis)\u001b[0m\n\u001b[1;32m     55\u001b[0m     \u001b[0mitems\u001b[0m \u001b[0;34m=\u001b[0m \u001b[0;36m1\u001b[0m\u001b[0;34m\u001b[0m\u001b[0;34m\u001b[0m\u001b[0m\n\u001b[1;32m     56\u001b[0m     \u001b[0;32mfor\u001b[0m \u001b[0max\u001b[0m \u001b[0;32min\u001b[0m \u001b[0maxis\u001b[0m\u001b[0;34m:\u001b[0m\u001b[0;34m\u001b[0m\u001b[0;34m\u001b[0m\u001b[0m\n\u001b[0;32m---> 57\u001b[0;31m         \u001b[0mitems\u001b[0m \u001b[0;34m*=\u001b[0m \u001b[0marr\u001b[0m\u001b[0;34m.\u001b[0m\u001b[0mshape\u001b[0m\u001b[0;34m[\u001b[0m\u001b[0max\u001b[0m\u001b[0;34m]\u001b[0m\u001b[0;34m\u001b[0m\u001b[0;34m\u001b[0m\u001b[0m\n\u001b[0m\u001b[1;32m     58\u001b[0m     \u001b[0;32mreturn\u001b[0m \u001b[0mitems\u001b[0m\u001b[0;34m\u001b[0m\u001b[0;34m\u001b[0m\u001b[0m\n\u001b[1;32m     59\u001b[0m \u001b[0;34m\u001b[0m\u001b[0m\n",
      "\u001b[0;31mIndexError\u001b[0m: tuple index out of range"
     ]
    }
   ],
   "source": [
    "# Test Case 1\n",
    "assert (moving_average(np.arange(10), 3) == np.arange(8)+1).all(), \"Failed test case 1\"\n",
    "print(\"Passed test case 1\\n\" + \"=\"*20)\n",
    "\n",
    "# Test Case 2\n",
    "assert (moving_average(np.array([-10, 5, 6, -4, 7, 9]), 2) == \n",
    "        np.array([-2.5, 5.5, 1, 1.5, 8])).all(), \"Failed test case 2\"\n",
    "print(\"Passed test case 2\\n\" + \"=\"*20)\n",
    "\n",
    "print(\"*\"*29 + \"\\n**  PASSED ALL TEST CASES  **\\n\" + \"*\"*29)"
   ]
  },
  {
   "cell_type": "markdown",
   "metadata": {
    "id": "9aa618f6"
   },
   "source": [
    "# Pandas Basics"
   ]
  },
  {
   "cell_type": "code",
   "execution_count": 85,
   "metadata": {
    "id": "edd1866d"
   },
   "outputs": [],
   "source": [
    "import pandas as pd"
   ]
  },
  {
   "cell_type": "markdown",
   "metadata": {
    "id": "2395daa3"
   },
   "source": [
    "The provided data contains flight delay information over a period of 3 days.\n",
    "\n",
    "**Data Description**    \n",
    "`From`: Source City  \n",
    "`To`: Destination City  \n",
    "`Flight Number`: Flight ID  \n",
    "`Delay_1`: Delay on Day 1  \n",
    "`Delay_2`: Delay on Day 2  \n",
    "`Delay_3`: Delay on Day 3  \n",
    "`Airline`: Carrier  "
   ]
  },
  {
   "cell_type": "code",
   "execution_count": 86,
   "metadata": {
    "id": "dc153bef"
   },
   "outputs": [],
   "source": [
    "data = {'From': ['London', 'Madrid', 'London', \n",
    "                   'Budapest', 'Brussels'],\n",
    "        'To': ['Paris', 'Milan', 'Stockholm', 'Paris', 'London'],\n",
    "        'FlightNumber': [10045, np.nan, 10065, np.nan, 10085],\n",
    "        'Delay_1': [23, np.nan, 24, 13, 67],\n",
    "        'Delay_2': [47, np.nan, 43, np.nan, 32],\n",
    "        'Delay_3': [np.nan, np.nan, 87, np.nan, np.nan],\n",
    "        'Airline': ['KLM', 'Air France', 'British Airways', \n",
    "                    'Air France', 'Swiss Air']}"
   ]
  },
  {
   "cell_type": "code",
   "execution_count": 87,
   "metadata": {
    "id": "015629c8"
   },
   "outputs": [],
   "source": [
    "df = pd.DataFrame(data)"
   ]
  },
  {
   "cell_type": "code",
   "execution_count": 88,
   "metadata": {
    "id": "6822ed9f"
   },
   "outputs": [
    {
     "data": {
      "text/html": [
       "<div>\n",
       "<style scoped>\n",
       "    .dataframe tbody tr th:only-of-type {\n",
       "        vertical-align: middle;\n",
       "    }\n",
       "\n",
       "    .dataframe tbody tr th {\n",
       "        vertical-align: top;\n",
       "    }\n",
       "\n",
       "    .dataframe thead th {\n",
       "        text-align: right;\n",
       "    }\n",
       "</style>\n",
       "<table border=\"1\" class=\"dataframe\">\n",
       "  <thead>\n",
       "    <tr style=\"text-align: right;\">\n",
       "      <th></th>\n",
       "      <th>From</th>\n",
       "      <th>To</th>\n",
       "      <th>FlightNumber</th>\n",
       "      <th>Delay_1</th>\n",
       "      <th>Delay_2</th>\n",
       "      <th>Delay_3</th>\n",
       "      <th>Airline</th>\n",
       "    </tr>\n",
       "  </thead>\n",
       "  <tbody>\n",
       "    <tr>\n",
       "      <th>0</th>\n",
       "      <td>London</td>\n",
       "      <td>Paris</td>\n",
       "      <td>10045.0</td>\n",
       "      <td>23.0</td>\n",
       "      <td>47.0</td>\n",
       "      <td>NaN</td>\n",
       "      <td>KLM</td>\n",
       "    </tr>\n",
       "    <tr>\n",
       "      <th>1</th>\n",
       "      <td>Madrid</td>\n",
       "      <td>Milan</td>\n",
       "      <td>NaN</td>\n",
       "      <td>NaN</td>\n",
       "      <td>NaN</td>\n",
       "      <td>NaN</td>\n",
       "      <td>Air France</td>\n",
       "    </tr>\n",
       "    <tr>\n",
       "      <th>2</th>\n",
       "      <td>London</td>\n",
       "      <td>Stockholm</td>\n",
       "      <td>10065.0</td>\n",
       "      <td>24.0</td>\n",
       "      <td>43.0</td>\n",
       "      <td>87.0</td>\n",
       "      <td>British Airways</td>\n",
       "    </tr>\n",
       "    <tr>\n",
       "      <th>3</th>\n",
       "      <td>Budapest</td>\n",
       "      <td>Paris</td>\n",
       "      <td>NaN</td>\n",
       "      <td>13.0</td>\n",
       "      <td>NaN</td>\n",
       "      <td>NaN</td>\n",
       "      <td>Air France</td>\n",
       "    </tr>\n",
       "    <tr>\n",
       "      <th>4</th>\n",
       "      <td>Brussels</td>\n",
       "      <td>London</td>\n",
       "      <td>10085.0</td>\n",
       "      <td>67.0</td>\n",
       "      <td>32.0</td>\n",
       "      <td>NaN</td>\n",
       "      <td>Swiss Air</td>\n",
       "    </tr>\n",
       "  </tbody>\n",
       "</table>\n",
       "</div>"
      ],
      "text/plain": [
       "       From         To  FlightNumber  Delay_1  Delay_2  Delay_3  \\\n",
       "0    London      Paris       10045.0     23.0     47.0      NaN   \n",
       "1    Madrid      Milan           NaN      NaN      NaN      NaN   \n",
       "2    London  Stockholm       10065.0     24.0     43.0     87.0   \n",
       "3  Budapest      Paris           NaN     13.0      NaN      NaN   \n",
       "4  Brussels     London       10085.0     67.0     32.0      NaN   \n",
       "\n",
       "           Airline  \n",
       "0              KLM  \n",
       "1       Air France  \n",
       "2  British Airways  \n",
       "3       Air France  \n",
       "4        Swiss Air  "
      ]
     },
     "execution_count": 88,
     "metadata": {},
     "output_type": "execute_result"
    }
   ],
   "source": [
    "df.head()"
   ]
  },
  {
   "cell_type": "markdown",
   "metadata": {
    "id": "1d9d8114"
   },
   "source": [
    "### Question 10 (5 points)\n",
    "**Compute the number of unique cities in `df`.**"
   ]
  },
  {
   "cell_type": "code",
   "execution_count": 89,
   "metadata": {
    "id": "346c1a8a"
   },
   "outputs": [
    {
     "name": "stdout",
     "output_type": "stream",
     "text": [
      "4\n"
     ]
    }
   ],
   "source": [
    "## YOUR CODE HERE\n",
    "print(len(pd.unique(df['From'])))"
   ]
  },
  {
   "cell_type": "markdown",
   "metadata": {
    "id": "c465de2a"
   },
   "source": [
    "### Question 11 (5 points)\n",
    "**Calculate the number of flights flying out of `London`.**"
   ]
  },
  {
   "cell_type": "code",
   "execution_count": 94,
   "metadata": {
    "id": "8d9d5fe8"
   },
   "outputs": [
    {
     "name": "stdout",
     "output_type": "stream",
     "text": [
      "3\n"
     ]
    }
   ],
   "source": [
    "## YOUR CODE HERE\n",
    "notInclude_London = df[(df.From != 'London')]\n",
    "print(len(notInclude_London))"
   ]
  },
  {
   "cell_type": "markdown",
   "metadata": {
    "id": "b68b65f8"
   },
   "source": [
    "### Question 12 (5 points)\n",
    "**Which cities are served by `Air France`?**"
   ]
  },
  {
   "cell_type": "code",
   "execution_count": 108,
   "metadata": {
    "id": "717d4485"
   },
   "outputs": [
    {
     "name": "stdout",
     "output_type": "stream",
     "text": [
      "1      Madrid\n",
      "3    Budapest\n",
      "Name: From, dtype: object\n",
      "1    Milan\n",
      "3    Paris\n",
      "Name: To, dtype: object\n"
     ]
    }
   ],
   "source": [
    "## YOUR CODE HERE\n",
    "served_by_AF = df[(df.Airline == 'Air France')]\n",
    "\n",
    "print(served_by_AF['From'])\n",
    "print(served_by_AF['To'])"
   ]
  },
  {
   "cell_type": "markdown",
   "metadata": {
    "id": "466270e6"
   },
   "source": [
    "### Question 13 (5 points)\n",
    "**Calculate the total number of missing values (they are `NaN`) in `df`.**"
   ]
  },
  {
   "cell_type": "code",
   "execution_count": 105,
   "metadata": {
    "id": "2d8f4abd"
   },
   "outputs": [
    {
     "name": "stdout",
     "output_type": "stream",
     "text": [
      "9\n"
     ]
    }
   ],
   "source": [
    "## YOUR CODE HERE\n",
    "print(df.isna().sum().sum())\n"
   ]
  },
  {
   "cell_type": "markdown",
   "metadata": {
    "id": "b26b0d55"
   },
   "source": [
    "### Question 14 (10 points)\n",
    "**Calculate the average delay (ignoring `NaN` values) for all the flights. Then modify `df` by replacing all the `NaN` values in `Delay_1`, `Delay_2`, and, `Delay_3` columns with the average delay.**"
   ]
  },
  {
   "cell_type": "code",
   "execution_count": 121,
   "metadata": {
    "id": "b0e6425c"
   },
   "outputs": [],
   "source": [
    "# YOUR CODE HERE\n",
    "D_1 = df['Delay_1'].mean()\n",
    "D_2 = df['Delay_2'].mean()\n",
    "D_3 = df['Delay_3'].mean()\n",
    "\n",
    "df['Delay_1'] = df['Delay_1'].fillna(D_1)\n",
    "df['Delay_2'] = df['Delay_2'].fillna(D_2)\n",
    "df['Delay_3'] = df['Delay_3'].fillna(D_3)\n"
   ]
  },
  {
   "cell_type": "code",
   "execution_count": 122,
   "metadata": {
    "id": "94c59963"
   },
   "outputs": [
    {
     "data": {
      "text/html": [
       "<div>\n",
       "<style scoped>\n",
       "    .dataframe tbody tr th:only-of-type {\n",
       "        vertical-align: middle;\n",
       "    }\n",
       "\n",
       "    .dataframe tbody tr th {\n",
       "        vertical-align: top;\n",
       "    }\n",
       "\n",
       "    .dataframe thead th {\n",
       "        text-align: right;\n",
       "    }\n",
       "</style>\n",
       "<table border=\"1\" class=\"dataframe\">\n",
       "  <thead>\n",
       "    <tr style=\"text-align: right;\">\n",
       "      <th></th>\n",
       "      <th>From</th>\n",
       "      <th>To</th>\n",
       "      <th>FlightNumber</th>\n",
       "      <th>Delay_1</th>\n",
       "      <th>Delay_2</th>\n",
       "      <th>Delay_3</th>\n",
       "      <th>Airline</th>\n",
       "    </tr>\n",
       "  </thead>\n",
       "  <tbody>\n",
       "    <tr>\n",
       "      <th>0</th>\n",
       "      <td>London</td>\n",
       "      <td>Paris</td>\n",
       "      <td>10045.0</td>\n",
       "      <td>23.00</td>\n",
       "      <td>47.000000</td>\n",
       "      <td>87.0</td>\n",
       "      <td>KLM</td>\n",
       "    </tr>\n",
       "    <tr>\n",
       "      <th>1</th>\n",
       "      <td>Madrid</td>\n",
       "      <td>Milan</td>\n",
       "      <td>NaN</td>\n",
       "      <td>31.75</td>\n",
       "      <td>40.666667</td>\n",
       "      <td>87.0</td>\n",
       "      <td>Air France</td>\n",
       "    </tr>\n",
       "    <tr>\n",
       "      <th>2</th>\n",
       "      <td>London</td>\n",
       "      <td>Stockholm</td>\n",
       "      <td>10065.0</td>\n",
       "      <td>24.00</td>\n",
       "      <td>43.000000</td>\n",
       "      <td>87.0</td>\n",
       "      <td>British Airways</td>\n",
       "    </tr>\n",
       "    <tr>\n",
       "      <th>3</th>\n",
       "      <td>Budapest</td>\n",
       "      <td>Paris</td>\n",
       "      <td>NaN</td>\n",
       "      <td>13.00</td>\n",
       "      <td>40.666667</td>\n",
       "      <td>87.0</td>\n",
       "      <td>Air France</td>\n",
       "    </tr>\n",
       "    <tr>\n",
       "      <th>4</th>\n",
       "      <td>Brussels</td>\n",
       "      <td>London</td>\n",
       "      <td>10085.0</td>\n",
       "      <td>67.00</td>\n",
       "      <td>32.000000</td>\n",
       "      <td>87.0</td>\n",
       "      <td>Swiss Air</td>\n",
       "    </tr>\n",
       "  </tbody>\n",
       "</table>\n",
       "</div>"
      ],
      "text/plain": [
       "       From         To  FlightNumber  Delay_1    Delay_2  Delay_3  \\\n",
       "0    London      Paris       10045.0    23.00  47.000000     87.0   \n",
       "1    Madrid      Milan           NaN    31.75  40.666667     87.0   \n",
       "2    London  Stockholm       10065.0    24.00  43.000000     87.0   \n",
       "3  Budapest      Paris           NaN    13.00  40.666667     87.0   \n",
       "4  Brussels     London       10085.0    67.00  32.000000     87.0   \n",
       "\n",
       "           Airline  \n",
       "0              KLM  \n",
       "1       Air France  \n",
       "2  British Airways  \n",
       "3       Air France  \n",
       "4        Swiss Air  "
      ]
     },
     "execution_count": 122,
     "metadata": {},
     "output_type": "execute_result"
    }
   ],
   "source": [
    "df.head()"
   ]
  },
  {
   "cell_type": "markdown",
   "metadata": {
    "id": "c5452f65"
   },
   "source": [
    "### Question 15 (10 points)\n",
    "**Some values in the the `FlightNumber` column are missing (`NaN`). These numbers are meant to increase by 10 with each row. So, the `FlightNumber` at row labels 1 and 3 should be 10055 and 10075 respectively. Modify `df` to fill in these missing numbers and make the column an integer column (instead of a float column).**"
   ]
  },
  {
   "cell_type": "code",
   "execution_count": 142,
   "metadata": {
    "id": "cce26572"
   },
   "outputs": [],
   "source": [
    "## YOUR CODE HERE\n",
    "pd.options.mode.chained_assignment = None  \n",
    "\n",
    "for i in range (len(df['FlightNumber']) -1):\n",
    "    df['FlightNumber'][i+1] = (df['FlightNumber'][i] + 10)\n",
    "    \n",
    "df['FlightNumber'] =df['FlightNumber'].astype('int32')"
   ]
  },
  {
   "cell_type": "code",
   "execution_count": 141,
   "metadata": {
    "id": "7f581e05"
   },
   "outputs": [
    {
     "data": {
      "text/html": [
       "<div>\n",
       "<style scoped>\n",
       "    .dataframe tbody tr th:only-of-type {\n",
       "        vertical-align: middle;\n",
       "    }\n",
       "\n",
       "    .dataframe tbody tr th {\n",
       "        vertical-align: top;\n",
       "    }\n",
       "\n",
       "    .dataframe thead th {\n",
       "        text-align: right;\n",
       "    }\n",
       "</style>\n",
       "<table border=\"1\" class=\"dataframe\">\n",
       "  <thead>\n",
       "    <tr style=\"text-align: right;\">\n",
       "      <th></th>\n",
       "      <th>From</th>\n",
       "      <th>To</th>\n",
       "      <th>FlightNumber</th>\n",
       "      <th>Delay_1</th>\n",
       "      <th>Delay_2</th>\n",
       "      <th>Delay_3</th>\n",
       "      <th>Airline</th>\n",
       "    </tr>\n",
       "  </thead>\n",
       "  <tbody>\n",
       "    <tr>\n",
       "      <th>0</th>\n",
       "      <td>London</td>\n",
       "      <td>Paris</td>\n",
       "      <td>10045</td>\n",
       "      <td>23.00</td>\n",
       "      <td>47.000000</td>\n",
       "      <td>87.0</td>\n",
       "      <td>KLM</td>\n",
       "    </tr>\n",
       "    <tr>\n",
       "      <th>1</th>\n",
       "      <td>Madrid</td>\n",
       "      <td>Milan</td>\n",
       "      <td>10055</td>\n",
       "      <td>31.75</td>\n",
       "      <td>40.666667</td>\n",
       "      <td>87.0</td>\n",
       "      <td>Air France</td>\n",
       "    </tr>\n",
       "    <tr>\n",
       "      <th>2</th>\n",
       "      <td>London</td>\n",
       "      <td>Stockholm</td>\n",
       "      <td>10065</td>\n",
       "      <td>24.00</td>\n",
       "      <td>43.000000</td>\n",
       "      <td>87.0</td>\n",
       "      <td>British Airways</td>\n",
       "    </tr>\n",
       "    <tr>\n",
       "      <th>3</th>\n",
       "      <td>Budapest</td>\n",
       "      <td>Paris</td>\n",
       "      <td>10075</td>\n",
       "      <td>13.00</td>\n",
       "      <td>40.666667</td>\n",
       "      <td>87.0</td>\n",
       "      <td>Air France</td>\n",
       "    </tr>\n",
       "    <tr>\n",
       "      <th>4</th>\n",
       "      <td>Brussels</td>\n",
       "      <td>London</td>\n",
       "      <td>10085</td>\n",
       "      <td>67.00</td>\n",
       "      <td>32.000000</td>\n",
       "      <td>87.0</td>\n",
       "      <td>Swiss Air</td>\n",
       "    </tr>\n",
       "  </tbody>\n",
       "</table>\n",
       "</div>"
      ],
      "text/plain": [
       "       From         To  FlightNumber  Delay_1    Delay_2  Delay_3  \\\n",
       "0    London      Paris         10045    23.00  47.000000     87.0   \n",
       "1    Madrid      Milan         10055    31.75  40.666667     87.0   \n",
       "2    London  Stockholm         10065    24.00  43.000000     87.0   \n",
       "3  Budapest      Paris         10075    13.00  40.666667     87.0   \n",
       "4  Brussels     London         10085    67.00  32.000000     87.0   \n",
       "\n",
       "           Airline  \n",
       "0              KLM  \n",
       "1       Air France  \n",
       "2  British Airways  \n",
       "3       Air France  \n",
       "4        Swiss Air  "
      ]
     },
     "execution_count": 141,
     "metadata": {},
     "output_type": "execute_result"
    }
   ],
   "source": [
    "df.head()"
   ]
  },
  {
   "cell_type": "code",
   "execution_count": 143,
   "metadata": {
    "id": "3b3dc16b"
   },
   "outputs": [
    {
     "name": "stdout",
     "output_type": "stream",
     "text": [
      "<class 'pandas.core.frame.DataFrame'>\n",
      "RangeIndex: 5 entries, 0 to 4\n",
      "Data columns (total 7 columns):\n",
      " #   Column        Non-Null Count  Dtype  \n",
      "---  ------        --------------  -----  \n",
      " 0   From          5 non-null      object \n",
      " 1   To            5 non-null      object \n",
      " 2   FlightNumber  5 non-null      int32  \n",
      " 3   Delay_1       5 non-null      float64\n",
      " 4   Delay_2       5 non-null      float64\n",
      " 5   Delay_3       5 non-null      float64\n",
      " 6   Airline       5 non-null      object \n",
      "dtypes: float64(3), int32(1), object(3)\n",
      "memory usage: 388.0+ bytes\n"
     ]
    }
   ],
   "source": [
    "df.info()"
   ]
  },
  {
   "cell_type": "code",
   "execution_count": null,
   "metadata": {
    "id": "60e14135"
   },
   "outputs": [],
   "source": []
  }
 ],
 "metadata": {
  "colab": {
   "collapsed_sections": [
    "9f7c5978",
    "6be8fe6d",
    "7e8ead58",
    "cd8ff4f9",
    "676a062c",
    "936fb3bc",
    "1d9d8114",
    "c465de2a",
    "b68b65f8",
    "466270e6",
    "b26b0d55",
    "c5452f65"
   ],
   "name": "pa0_intro_to_python.ipynb",
   "provenance": []
  },
  "kernelspec": {
   "display_name": "Python 3",
   "language": "python",
   "name": "python3"
  },
  "language_info": {
   "codemirror_mode": {
    "name": "ipython",
    "version": 3
   },
   "file_extension": ".py",
   "mimetype": "text/x-python",
   "name": "python",
   "nbconvert_exporter": "python",
   "pygments_lexer": "ipython3",
   "version": "3.7.6"
  }
 },
 "nbformat": 4,
 "nbformat_minor": 5
}
